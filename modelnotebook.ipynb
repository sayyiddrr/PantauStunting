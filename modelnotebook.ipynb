{
 "cells": [
  {
   "cell_type": "markdown",
   "metadata": {},
   "source": [
    "Library"
   ]
  },
  {
   "cell_type": "code",
   "execution_count": null,
   "metadata": {},
   "outputs": [],
   "source": [
    "#import library\n",
    "import pandas as pd\n",
    "import joblib\n",
    "import matplotlib.pyplot as plt\n",
    "import seaborn as sns\n",
    "from sklearn.tree import DecisionTreeClassifier\n",
    "from sklearn.tree import export_text\n",
    "from sklearn.tree import export_graphviz\n",
    "import graphviz\n",
    "import pydotplus\n",
    "from sklearn.model_selection import train_test_split\n",
    "from sklearn.metrics import accuracy_score, confusion_matrix, precision_score, recall_score, f1_score"
   ]
  },
  {
   "cell_type": "markdown",
   "metadata": {},
   "source": [
    "Read Data"
   ]
  },
  {
   "cell_type": "code",
   "execution_count": null,
   "metadata": {},
   "outputs": [],
   "source": [
    "#read dataset\n",
    "df = pd.read_csv(\"YOUR DATASET FILE NAME\")\n",
    "df"
   ]
  },
  {
   "cell_type": "markdown",
   "metadata": {},
   "source": [
    "Eksplorasi Data"
   ]
  },
  {
   "cell_type": "code",
   "execution_count": null,
   "metadata": {},
   "outputs": [],
   "source": [
    "#cek dimensi data\n",
    "df.shape"
   ]
  },
  {
   "cell_type": "code",
   "execution_count": null,
   "metadata": {},
   "outputs": [],
   "source": [
    "#checking data types\n",
    "df.dtypes"
   ]
  },
  {
   "cell_type": "code",
   "execution_count": null,
   "metadata": {},
   "outputs": [],
   "source": [
    "# Cek Jumlah Kategori Pada Atribut\n",
    "print(pd.value_counts(df.JK))\n"
   ]
  },
  {
   "cell_type": "code",
   "execution_count": null,
   "metadata": {},
   "outputs": [],
   "source": [
    "#Cek Jumlah kategori pada label\n",
    "print(pd.value_counts(df.BBU), \"\\n\")\n",
    "print(pd.value_counts(df.TBU), \"\\n\")\n",
    "print(pd.value_counts(df.BBTB), \"\\n\")\n",
    "print(pd.value_counts(df.IMTU))"
   ]
  },
  {
   "cell_type": "code",
   "execution_count": null,
   "metadata": {},
   "outputs": [],
   "source": [
    "#cek missing value\n",
    "df.isnull().sum()"
   ]
  },
  {
   "cell_type": "code",
   "execution_count": null,
   "metadata": {},
   "outputs": [],
   "source": [
    "#Cek data duplikat\n",
    "df.duplicated().sum()"
   ]
  },
  {
   "cell_type": "code",
   "execution_count": null,
   "metadata": {},
   "outputs": [],
   "source": [
    "#Cek baris mana yang duplikat\n",
    "duplicated_rows = df[df.duplicated()]\n",
    "print(\"Data Duplikat:\")\n",
    "print(duplicated_rows)"
   ]
  },
  {
   "cell_type": "code",
   "execution_count": null,
   "metadata": {},
   "outputs": [],
   "source": [
    "# Visualisasi dengan Box Plot\n",
    "plt.figure(figsize=(6, 4))\n",
    "sns.boxplot(df)\n",
    "plt.title(\"Box Plot\")\n",
    "plt.show()\n"
   ]
  },
  {
   "cell_type": "markdown",
   "metadata": {},
   "source": [
    "Preprocessing Data"
   ]
  },
  {
   "cell_type": "code",
   "execution_count": null,
   "metadata": {},
   "outputs": [],
   "source": [
    "#Data Selection\n",
    "#Delete Atribut IMT dan Label IMT/Umur \n",
    "del df['IMT']\n",
    "del df['IMTU']\n",
    "df"
   ]
  },
  {
   "cell_type": "code",
   "execution_count": null,
   "metadata": {},
   "outputs": [],
   "source": [
    "#Data Cleaning\n",
    "#Penanganan Data Duplikat\n",
    "df.drop_duplicates(keep = 'first', inplace = True)"
   ]
  },
  {
   "cell_type": "code",
   "execution_count": null,
   "metadata": {},
   "outputs": [],
   "source": [
    "#Cek Data duplikat setelah dilakukan penanganan\n",
    "df.duplicated().sum()"
   ]
  },
  {
   "cell_type": "code",
   "execution_count": null,
   "metadata": {},
   "outputs": [],
   "source": [
    "#mengecek data setelah menghapus data duplikat\n",
    "df"
   ]
  },
  {
   "cell_type": "code",
   "execution_count": null,
   "metadata": {},
   "outputs": [],
   "source": [
    "#Data cleaning\n",
    "#Penanganan Data Outlier untuk atribut BB\n",
    "# Calculate Q1 and Q3\n",
    "#Q1 = df['BB'].quantile(0.25)\n",
    "#Q3 = df['BB'].quantile(0.75)\n",
    "\n",
    "# Calculate IQR\n",
    "#IQR = Q3 - Q1\n",
    "\n",
    "# Define outlier thresholds\n",
    "#lower_threshold = Q1 - 1.5 * IQR\n",
    "#upper_threshold = Q3 + 1.5 * IQR\n",
    "\n",
    "# Identify outlier values\n",
    "#outliers = df[(df['BB'] < lower_threshold) | (df['BB'] > upper_threshold)]\n",
    "\n",
    "# Choose an approach to handle outliers (e.g., replacing with median)\n",
    "#median_value = df['BB'].median()\n",
    "#df.loc[outliers.index, 'BB'] = median_value\n",
    "\n",
    "# Visualisasi dengan Box Plot setelah dilakukan penanganan\n",
    "#plt.figure(figsize=(6, 4))\n",
    "#sns.boxplot(df)\n",
    "#plt.title(\"Box Plot\")\n",
    "#plt.show()"
   ]
  },
  {
   "cell_type": "markdown",
   "metadata": {},
   "source": [
    "Data Transformation"
   ]
  },
  {
   "cell_type": "code",
   "execution_count": null,
   "metadata": {},
   "outputs": [],
   "source": [
    "#Generalisasi Untuk Atribut Jenis Kelamin (JK) menjadi numerik\n",
    "map_JK = dict(zip(set(df['JK']), [0,1]))\n",
    "df['JK'] = df['JK'].apply(lambda x:map_JK[x])\n",
    "print(map_JK)"
   ]
  },
  {
   "cell_type": "code",
   "execution_count": null,
   "metadata": {},
   "outputs": [],
   "source": [
    "#Menampilkan data setelah transformation\n",
    "df"
   ]
  },
  {
   "cell_type": "markdown",
   "metadata": {},
   "source": [
    "Pembuatan Model Decision Tree"
   ]
  },
  {
   "cell_type": "code",
   "execution_count": null,
   "metadata": {},
   "outputs": [],
   "source": [
    "# Memisahkan label dengan atribut\n",
    "#X = df.drop(['BBU', 'TBU', 'BBTB'], axis=1)\n",
    "labels = ['BBU', 'TBU', 'BBTB']\n",
    "y = df[labels]"
   ]
  },
  {
   "cell_type": "code",
   "execution_count": null,
   "metadata": {},
   "outputs": [],
   "source": [
    "#Memisahkan label dari dataset\n",
    "df.drop(labels, axis=1, inplace=True)"
   ]
  },
  {
   "cell_type": "code",
   "execution_count": null,
   "metadata": {},
   "outputs": [],
   "source": [
    "#Pembagian dataset\n",
    "X_train, X_test, y_train, y_test = train_test_split(df\n",
    "                                                    ,y\n",
    "                                                    ,test_size=0.2\n",
    "                                                    ,shuffle=True\n",
    "                                                    ,random_state=12)"
   ]
  },
  {
   "cell_type": "code",
   "execution_count": null,
   "metadata": {},
   "outputs": [],
   "source": [
    "print(\"Ukuran x_train :\", X_train.shape)\n",
    "print(\"Ukuran x_tes :\", X_test.shape)\n",
    "print(\"Ukuran y_train :\", y_train.shape)\n",
    "print(\"Ukuran y_tes :\",y_test.shape)"
   ]
  },
  {
   "cell_type": "code",
   "execution_count": null,
   "metadata": {},
   "outputs": [],
   "source": [
    "# Pembuatan Model Decision Tree\n",
    "model = DecisionTreeClassifier()\n",
    "model = model.fit(X_train, y_train)\n",
    "\n",
    "# Menampilkan aturan (rules)\n",
    "tree_rules = export_text(model, feature_names=list(X_train.columns))\n",
    "print(\"Decision Tree Rules:\")\n",
    "print(tree_rules)\n",
    "\n",
    "# Menampilkan pohon keputusan\n",
    "dot_data = export_graphviz(\n",
    "    model,\n",
    "    out_file=None,\n",
    "    feature_names=list(X_train.columns),\n",
    "    class_names=list(y_train.columns),\n",
    "    filled=True,\n",
    "    rounded=True,\n",
    "    special_characters=True\n",
    ")\n",
    "graph = pydotplus.graph_from_dot_data(dot_data)\n",
    "graph.write_png('decision_tree.png')  # Simpan pohon keputusan sebagai gambar\n"
   ]
  },
  {
   "cell_type": "markdown",
   "metadata": {},
   "source": [
    "Testing"
   ]
  },
  {
   "cell_type": "code",
   "execution_count": null,
   "metadata": {},
   "outputs": [],
   "source": [
    "# Proses Pengujian\n",
    "y_pred = model.predict(X_test)\n",
    "print(y_pred.shape)\n",
    "print(y_test.shape)"
   ]
  },
  {
   "cell_type": "code",
   "execution_count": null,
   "metadata": {},
   "outputs": [],
   "source": [
    "prediksi = pd.DataFrame(y_pred)\n",
    "prediksi.colums = ['hasil prediksi']\n",
    "prediksi"
   ]
  },
  {
   "cell_type": "code",
   "execution_count": null,
   "metadata": {},
   "outputs": [],
   "source": [
    "# Cek Jumlah label pada setiap kolom\n",
    "for column in prediksi.columns:\n",
    "    print(f\"Jumlah nilai pada kolom {column}:\")\n",
    "    print(prediksi[column].value_counts())\n",
    "    print(\"\\n\")"
   ]
  },
  {
   "cell_type": "markdown",
   "metadata": {},
   "source": [
    "Evaluasi Model"
   ]
  },
  {
   "cell_type": "code",
   "execution_count": null,
   "metadata": {},
   "outputs": [],
   "source": [
    "#Menghitung Confusion Matrix untuk setiap kolom label\n",
    "for i, column in enumerate(y_test.columns):\n",
    "    cm = confusion_matrix(y_test.iloc[:, i], y_pred[:, i])\n",
    "    print(f\"Metrics untuk kolom {column}:\")\n",
    "    print(\"Confusion Matrix:\")\n",
    "    print(cm)"
   ]
  },
  {
   "cell_type": "code",
   "execution_count": null,
   "metadata": {},
   "outputs": [],
   "source": [
    "# Menghitung akurasi untuk setiap kolom label\n",
    "for i, column in enumerate(y_test.columns):\n",
    "    accuracy = accuracy_score(y_test.iloc[:, i], y_pred[:, i])\n",
    "    print(f\"Akurasi untuk kolom {column}: {accuracy * 100:.2f}%\")"
   ]
  },
  {
   "cell_type": "code",
   "execution_count": null,
   "metadata": {},
   "outputs": [],
   "source": [
    "#Menghitung Precision Score untuk setiap kolom label\n",
    "for i, column in enumerate(y_test.columns):\n",
    "    precision = precision_score(y_test.iloc[:, i], y_pred[:, i], average='weighted')\n",
    "    print(f\"Precision untuk kolom {column}: {precision * 100:.2f}%\")"
   ]
  },
  {
   "cell_type": "code",
   "execution_count": null,
   "metadata": {},
   "outputs": [],
   "source": [
    "#Menghitung Recall Score untuk setiap kolom label\n",
    "for i, column in enumerate(y_test.columns):\n",
    "    recall = recall_score(y_test.iloc[:, i], y_pred[:, i], average='weighted')\n",
    "    print(f\"Recall Score untuk kolom {column}: {recall * 100:.2f}%\")"
   ]
  },
  {
   "cell_type": "code",
   "execution_count": null,
   "metadata": {},
   "outputs": [],
   "source": [
    "#Menghitung F-1 Score untuk setiap kolom label\n",
    "for i, column in enumerate(y_test.columns):\n",
    "    f1 = f1_score(y_test.iloc[:, i], y_pred[:, i], average='weighted')\n",
    "    print(f\"F-1 Score untuk kolom {column}: {f1 * 100:.2f}%\")"
   ]
  },
  {
   "cell_type": "code",
   "execution_count": null,
   "metadata": {},
   "outputs": [],
   "source": [
    "# Simpan model decision tree ke dalam format joblib/.h5\n",
    "model_filename = 'decision_tree_model.h5'\n",
    "joblib.dump(model, model_filename)\n",
    "\n",
    "print(\"Model berhasil disimpan dalam format .h5\")\n"
   ]
  }
 ],
 "metadata": {
  "kernelspec": {
   "display_name": "Python 3",
   "language": "python",
   "name": "python3"
  },
  "language_info": {
   "codemirror_mode": {
    "name": "ipython",
    "version": 3
   },
   "file_extension": ".py",
   "mimetype": "text/x-python",
   "name": "python",
   "nbconvert_exporter": "python",
   "pygments_lexer": "ipython3",
   "version": "3.11.5"
  },
  "orig_nbformat": 4
 },
 "nbformat": 4,
 "nbformat_minor": 2
}
